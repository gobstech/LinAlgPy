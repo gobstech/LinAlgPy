{
  "nbformat": 4,
  "nbformat_minor": 0,
  "metadata": {
    "colab": {
      "provenance": [],
      "authorship_tag": "ABX9TyPaoeaZnu4bSL2L5S9XXFyQ",
      "include_colab_link": true
    },
    "kernelspec": {
      "name": "python3",
      "display_name": "Python 3"
    },
    "language_info": {
      "name": "python"
    }
  },
  "cells": [
    {
      "cell_type": "markdown",
      "metadata": {
        "id": "view-in-github",
        "colab_type": "text"
      },
      "source": [
        "<a href=\"https://colab.research.google.com/github/gobstech/LinAlgPy/blob/main/prog1.ipynb\" target=\"_parent\"><img src=\"https://colab.research.google.com/assets/colab-badge.svg\" alt=\"Open In Colab\"/></a>"
      ]
    },
    {
      "cell_type": "code",
      "execution_count": null,
      "metadata": {
        "colab": {
          "base_uri": "https://localhost:8080/"
        },
        "id": "SyL_Jby9eWdC",
        "outputId": "9f65c3a9-bdc7-45fd-865f-f036e5de67b1"
      },
      "outputs": [
        {
          "output_type": "execute_result",
          "data": {
            "text/plain": [
              "5"
            ]
          },
          "metadata": {},
          "execution_count": 1
        }
      ],
      "source": [
        "# prompt: 2+3\n",
        "\n",
        "5\n"
      ]
    },
    {
      "cell_type": "code",
      "source": [
        "#SOMA\n",
        "3+2\n"
      ],
      "metadata": {
        "colab": {
          "base_uri": "https://localhost:8080/"
        },
        "id": "zsxnEV-bexWs",
        "outputId": "717c4964-bc22-4751-c25e-db6b94adb8a9"
      },
      "execution_count": null,
      "outputs": [
        {
          "output_type": "execute_result",
          "data": {
            "text/plain": [
              "5"
            ]
          },
          "metadata": {},
          "execution_count": 2
        }
      ]
    },
    {
      "cell_type": "code",
      "source": [
        "#SOMA\n",
        "# 3+2\n",
        "#SUBTRAÇÃO\n",
        "# 3-2\n",
        "#MULTIPLICAÇÃO\n",
        "# 3*2\n",
        "#DIVISÃO\n",
        "# 3/2\n",
        "#POTÊNCIA\n",
        "3**2"
      ],
      "metadata": {
        "colab": {
          "base_uri": "https://localhost:8080/"
        },
        "id": "AdG0XZt8e5Bm",
        "outputId": "2d81d83c-56fe-46f9-ac85-e2105ad64ff8"
      },
      "execution_count": null,
      "outputs": [
        {
          "output_type": "execute_result",
          "data": {
            "text/plain": [
              "9"
            ]
          },
          "metadata": {},
          "execution_count": 7
        }
      ]
    }
  ]
}